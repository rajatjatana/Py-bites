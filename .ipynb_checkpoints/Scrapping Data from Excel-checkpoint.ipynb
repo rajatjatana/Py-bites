{
 "cells": [
  {
   "cell_type": "code",
   "execution_count": 1,
   "metadata": {},
   "outputs": [
    {
     "data": {
      "text/plain": [
       "'C:\\\\Users\\\\HFCA-Rajat\\\\OneDrive\\\\GitHub\\\\Python-for-Data-Science'"
      ]
     },
     "execution_count": 1,
     "metadata": {},
     "output_type": "execute_result"
    }
   ],
   "source": [
    "\n",
    "\n",
    "import os\n",
    "os.getcwd()"
   ]
  },
  {
   "cell_type": "markdown",
   "metadata": {},
   "source": [
    "# Introduction: \n",
    "\n",
    "Many a times we are required to scrape the data from many excels (& many sheets). It might be a daunting task if it is required to be done manually. \n",
    "\n",
    "Thanks to python, this task can be automated now. In this example, we will exactly see how to do that. \n",
    "\n"
   ]
  },
  {
   "cell_type": "code",
   "execution_count": 7,
   "metadata": {},
   "outputs": [
    {
     "data": {
      "text/plain": [
       "'C:\\\\Users\\\\HFCA-Rajat\\\\OneDrive\\\\GitHub\\\\Python-for-Data-Science'"
      ]
     },
     "execution_count": 7,
     "metadata": {},
     "output_type": "execute_result"
    }
   ],
   "source": [
    "# Import the relevant libraries: \n",
    "import os \n",
    "import xlrd\n",
    "import pandas as pd \n",
    "import numpy as np \n",
    "\n",
    "\n",
    "# Check the working directory: \n",
    "os.getcwd()\n",
    "\n"
   ]
  },
  {
   "cell_type": "code",
   "execution_count": 13,
   "metadata": {},
   "outputs": [
    {
     "ename": "FileNotFoundError",
     "evalue": "[WinError 2] The system cannot find the file specified: 'Data'",
     "output_type": "error",
     "traceback": [
      "\u001b[1;31m---------------------------------------------------------------------------\u001b[0m",
      "\u001b[1;31mFileNotFoundError\u001b[0m                         Traceback (most recent call last)",
      "\u001b[1;32m<ipython-input-13-bc82b7095c3d>\u001b[0m in \u001b[0;36m<module>\u001b[1;34m\u001b[0m\n\u001b[0;32m      1\u001b[0m \u001b[1;31m#Set the working directory:\u001b[0m\u001b[1;33m\u001b[0m\u001b[1;33m\u001b[0m\u001b[1;33m\u001b[0m\u001b[0m\n\u001b[0;32m      2\u001b[0m \u001b[1;33m\u001b[0m\u001b[0m\n\u001b[1;32m----> 3\u001b[1;33m \u001b[0mos\u001b[0m\u001b[1;33m.\u001b[0m\u001b[0mchdir\u001b[0m\u001b[1;33m(\u001b[0m\u001b[1;34m'Data'\u001b[0m\u001b[1;33m)\u001b[0m\u001b[1;33m\u001b[0m\u001b[1;33m\u001b[0m\u001b[0m\n\u001b[0m",
      "\u001b[1;31mFileNotFoundError\u001b[0m: [WinError 2] The system cannot find the file specified: 'Data'"
     ]
    }
   ],
   "source": [
    "#Set the working directory: \n",
    "\n",
    "os.chdir('Data')"
   ]
  },
  {
   "cell_type": "code",
   "execution_count": 29,
   "metadata": {},
   "outputs": [
    {
     "data": {
      "text/plain": [
       "['2018 W01 RECIPE CARDS.xlsx',\n",
       " '2018 W05 RECIPE CARDS.xlsx',\n",
       " 'W02 RECIPE CARDS.xlsx',\n",
       " 'W03 RECIPE CARDS.xlsx',\n",
       " 'W04 RECIPE CARDS - THIS COPY.xlsx',\n",
       " 'W06 RECIPE CARDS.xlsx',\n",
       " 'W07 RECIPE CARDS.xlsx',\n",
       " 'W08 RECIPE CARDS.xlsx',\n",
       " 'W09 RECIPE CARDS_.xlsx',\n",
       " 'W10 RECIPE CARDS.xlsx',\n",
       " 'W11 RECIPE CARDS.xlsx',\n",
       " 'W12 RECIPE CARDS - THIS ONE!! USE THIS ONE.xlsx',\n",
       " 'W13 RECIPE CARDS.xlsx',\n",
       " 'W14 RECIPE CARDS_.xlsx',\n",
       " 'W15 RECIPE CARDS THIS ONE!!.xlsx',\n",
       " 'W16 RECIPE CARDS - THIS ONE!.xlsx',\n",
       " 'W17 RECIPE CARDS - THIS ONE!.xlsx',\n",
       " 'W18 RECIPE CARDS - THIS ONE!.xlsx',\n",
       " 'W19 RECIPE CARDS.xlsx',\n",
       " 'W20 RECIPE CARDS_.xlsx',\n",
       " 'W21  RECIPE CARDS_.xlsx',\n",
       " 'W22 RECIPE CARDS_.xlsx',\n",
       " 'W23 RECIPE CARDS.xlsx',\n",
       " 'W24 RECIPE CARDS.xlsx',\n",
       " 'W25 RECIPE CARDS.xlsx',\n",
       " 'W26 RECIPE CARDS.xlsx',\n",
       " 'W27 RECIPE CARDS.xlsx',\n",
       " 'W28 RECIPE CARDS.xlsx',\n",
       " 'W29 RECIPE CARDS.xlsx',\n",
       " 'W30 RECIPE CARDS.xlsx',\n",
       " 'W31 RECIPE CARDS.xlsx',\n",
       " 'W32 RECIPE CARDS.xlsx',\n",
       " 'W33 RECIPE CARDS.xlsx',\n",
       " 'W34 RECIPE CARDS.xlsx',\n",
       " 'W35 RECIPE CARDS.xlsx',\n",
       " 'W36 RECIPE CARDS.xlsx',\n",
       " 'W37 RECIPE CARDS_.xlsx',\n",
       " 'W38 RECIPE CARDS.xlsx',\n",
       " 'W39 RECIPE CARDS.xlsx',\n",
       " 'W40 RECIPE CARDS.xlsx',\n",
       " 'W41 RECIPE CARDS.xlsx',\n",
       " 'W42 RECIPE CARDS.xlsx',\n",
       " 'W43 RECIPE CARDS.xlsx',\n",
       " 'W44 RECIPE CARDS_.xlsx',\n",
       " 'W45 RECIPE CARDS_.xlsx',\n",
       " 'W46 RECIPE CARDS__.xlsx',\n",
       " 'W47 RECIPE CARDS.xlsx',\n",
       " 'W48 RECIPE CARDS.xlsx',\n",
       " 'W49 RECIPE CARDS.xlsx',\n",
       " 'W50 RECIPE CARDS.xlsx',\n",
       " 'W51 RECIPE CARDS_.xlsx',\n",
       " 'W52 RECIPE CARDS.xlsx']"
      ]
     },
     "execution_count": 29,
     "metadata": {},
     "output_type": "execute_result"
    }
   ],
   "source": [
    "# let's store all the files in a list : \n",
    "\n",
    "files = os.listdir('Data')\n",
    "files"
   ]
  },
  {
   "cell_type": "code",
   "execution_count": 28,
   "metadata": {},
   "outputs": [
    {
     "data": {
      "text/plain": [
       "['2018 W01 RECIPE CARDS.xlsx']"
      ]
     },
     "execution_count": 28,
     "metadata": {},
     "output_type": "execute_result"
    }
   ],
   "source": [
    "\n",
    "#get the list of the xlsx files : \n",
    "\n",
    "excel_files = [i for i in os.listdir() if ((i.endswith('xlsx') )==True & (i.startswith('~$')==False))]\n",
    "excel_files \n",
    "\n",
    "# By now we have the list of the excel files:"
   ]
  },
  {
   "cell_type": "code",
   "execution_count": 27,
   "metadata": {},
   "outputs": [
    {
     "ename": "FileNotFoundError",
     "evalue": "[Errno 2] No such file or directory: 'W02 RECIPE CARDS.xlsx'",
     "output_type": "error",
     "traceback": [
      "\u001b[1;31m---------------------------------------------------------------------------\u001b[0m",
      "\u001b[1;31mFileNotFoundError\u001b[0m                         Traceback (most recent call last)",
      "\u001b[1;32m<ipython-input-27-6b6cc209825a>\u001b[0m in \u001b[0;36m<module>\u001b[1;34m\u001b[0m\n\u001b[0;32m      5\u001b[0m \u001b[0ml\u001b[0m\u001b[1;33m=\u001b[0m\u001b[1;36m0\u001b[0m\u001b[1;33m\u001b[0m\u001b[1;33m\u001b[0m\u001b[0m\n\u001b[0;32m      6\u001b[0m \u001b[1;32mfor\u001b[0m \u001b[0me\u001b[0m \u001b[1;32min\u001b[0m \u001b[0mexcel_files\u001b[0m\u001b[1;33m[\u001b[0m\u001b[1;36m2\u001b[0m\u001b[1;33m:\u001b[0m\u001b[1;33m]\u001b[0m\u001b[1;33m:\u001b[0m\u001b[1;33m\u001b[0m\u001b[1;33m\u001b[0m\u001b[0m\n\u001b[1;32m----> 7\u001b[1;33m     \u001b[0mthis_excel\u001b[0m \u001b[1;33m=\u001b[0m \u001b[0mxlrd\u001b[0m\u001b[1;33m.\u001b[0m\u001b[0mopen_workbook\u001b[0m\u001b[1;33m(\u001b[0m\u001b[0me\u001b[0m\u001b[1;33m)\u001b[0m\u001b[1;33m\u001b[0m\u001b[1;33m\u001b[0m\u001b[0m\n\u001b[0m\u001b[0;32m      8\u001b[0m     \u001b[0mall_sheets\u001b[0m \u001b[1;33m=\u001b[0m \u001b[0mlist\u001b[0m\u001b[1;33m(\u001b[0m\u001b[0mthis_excel\u001b[0m\u001b[1;33m.\u001b[0m\u001b[0msheet_names\u001b[0m\u001b[1;33m(\u001b[0m\u001b[1;33m)\u001b[0m\u001b[1;33m)\u001b[0m\u001b[1;33m\u001b[0m\u001b[1;33m\u001b[0m\u001b[0m\n\u001b[0;32m      9\u001b[0m     \u001b[1;31m# get the recipe list:\u001b[0m\u001b[1;33m\u001b[0m\u001b[1;33m\u001b[0m\u001b[1;33m\u001b[0m\u001b[0m\n",
      "\u001b[1;32m~\\Anaconda3\\lib\\site-packages\\xlrd\\__init__.py\u001b[0m in \u001b[0;36mopen_workbook\u001b[1;34m(filename, logfile, verbosity, use_mmap, file_contents, encoding_override, formatting_info, on_demand, ragged_rows)\u001b[0m\n\u001b[0;32m    109\u001b[0m     \u001b[1;32melse\u001b[0m\u001b[1;33m:\u001b[0m\u001b[1;33m\u001b[0m\u001b[1;33m\u001b[0m\u001b[0m\n\u001b[0;32m    110\u001b[0m         \u001b[0mfilename\u001b[0m \u001b[1;33m=\u001b[0m \u001b[0mos\u001b[0m\u001b[1;33m.\u001b[0m\u001b[0mpath\u001b[0m\u001b[1;33m.\u001b[0m\u001b[0mexpanduser\u001b[0m\u001b[1;33m(\u001b[0m\u001b[0mfilename\u001b[0m\u001b[1;33m)\u001b[0m\u001b[1;33m\u001b[0m\u001b[1;33m\u001b[0m\u001b[0m\n\u001b[1;32m--> 111\u001b[1;33m         \u001b[1;32mwith\u001b[0m \u001b[0mopen\u001b[0m\u001b[1;33m(\u001b[0m\u001b[0mfilename\u001b[0m\u001b[1;33m,\u001b[0m \u001b[1;34m\"rb\"\u001b[0m\u001b[1;33m)\u001b[0m \u001b[1;32mas\u001b[0m \u001b[0mf\u001b[0m\u001b[1;33m:\u001b[0m\u001b[1;33m\u001b[0m\u001b[1;33m\u001b[0m\u001b[0m\n\u001b[0m\u001b[0;32m    112\u001b[0m             \u001b[0mpeek\u001b[0m \u001b[1;33m=\u001b[0m \u001b[0mf\u001b[0m\u001b[1;33m.\u001b[0m\u001b[0mread\u001b[0m\u001b[1;33m(\u001b[0m\u001b[0mpeeksz\u001b[0m\u001b[1;33m)\u001b[0m\u001b[1;33m\u001b[0m\u001b[1;33m\u001b[0m\u001b[0m\n\u001b[0;32m    113\u001b[0m     \u001b[1;32mif\u001b[0m \u001b[0mpeek\u001b[0m \u001b[1;33m==\u001b[0m \u001b[1;34mb\"PK\\x03\\x04\"\u001b[0m\u001b[1;33m:\u001b[0m \u001b[1;31m# a ZIP file\u001b[0m\u001b[1;33m\u001b[0m\u001b[1;33m\u001b[0m\u001b[0m\n",
      "\u001b[1;31mFileNotFoundError\u001b[0m: [Errno 2] No such file or directory: 'W02 RECIPE CARDS.xlsx'"
     ]
    }
   ],
   "source": [
    "# Now for each excel, lets get the list of all the excel sheets: \n",
    "\n",
    "# lets create the empty dataset: \n",
    "df = pd.DataFrame()\n",
    "l=0\n",
    "for e in excel_files[]: \n",
    "    this_excel = xlrd.open_workbook(e)\n",
    "    all_sheets = list(this_excel.sheet_names())\n",
    "    # get the recipe list: \n",
    "    recipe_sheets = [s for s in all_sheets if (s.startswith('Recipe')==True ) & (s.endswith('dar')==False)] \n",
    "    # Extract the information from each of the recipe sheet: \n",
    "    for sheet_num in range(len(recipe_sheets)) : \n",
    "        k= this_excel.sheet_by_index(sheet_num)\n",
    "        df.loc[ l,'Week'] = k.cell_value(3,1)\n",
    "        df.loc[ l,'Recipe ID'] = k.cell_value(4,1)\n",
    "        df.loc[ l,'RECIPE TITLE'] = k.cell_value(7,1)\n",
    "        df.loc[ l,'RECIPE SUBTITLE'] = k.cell_value(8,1)\n",
    "        df.loc[ l,'Year_Week'] = k.cell_value(1,8)\n",
    "        df.loc[ l,'New_Recipe_Flag'] = k.cell_value(2,7)\n",
    "        df.loc[ l,'New_Recipe'] = k.cell_value(2,8)\n",
    "        df.loc[ l,'Last Ran'] = k.cell_value(4,8)\n",
    "        df.loc[ l,'Recipe Score'] = k.cell_value(5,8)\n",
    "        df.loc[ l,'buffer_Column'] = k.cell_value(6,8)\n",
    "        l = l+1\n",
    "    "
   ]
  },
  {
   "cell_type": "code",
   "execution_count": null,
   "metadata": {},
   "outputs": [],
   "source": []
  },
  {
   "cell_type": "code",
   "execution_count": 20,
   "metadata": {},
   "outputs": [
    {
     "data": {
      "text/html": [
       "<div>\n",
       "<style scoped>\n",
       "    .dataframe tbody tr th:only-of-type {\n",
       "        vertical-align: middle;\n",
       "    }\n",
       "\n",
       "    .dataframe tbody tr th {\n",
       "        vertical-align: top;\n",
       "    }\n",
       "\n",
       "    .dataframe thead th {\n",
       "        text-align: right;\n",
       "    }\n",
       "</style>\n",
       "<table border=\"1\" class=\"dataframe\">\n",
       "  <thead>\n",
       "    <tr style=\"text-align: right;\">\n",
       "      <th></th>\n",
       "      <th>Week</th>\n",
       "      <th>Recipe ID</th>\n",
       "      <th>RECIPE TITLE</th>\n",
       "      <th>RECIPE SUBTITLE</th>\n",
       "      <th>Year_Week</th>\n",
       "      <th>New_Recipe_Flag</th>\n",
       "      <th>New_Recipe</th>\n",
       "      <th>Last Ran</th>\n",
       "      <th>Recipe Score</th>\n",
       "      <th>buffer_Column</th>\n",
       "    </tr>\n",
       "  </thead>\n",
       "  <tbody>\n",
       "    <tr>\n",
       "      <th>0</th>\n",
       "      <td>01</td>\n",
       "      <td>RP-0058</td>\n",
       "      <td>Thai 'Pad Krapow Moo'</td>\n",
       "      <td>with Green Beans and Thai Basil</td>\n",
       "      <td>201801</td>\n",
       "      <td></td>\n",
       "      <td>TESTING</td>\n",
       "      <td>Irene</td>\n",
       "      <td>43101</td>\n",
       "      <td>3.59</td>\n",
       "    </tr>\n",
       "    <tr>\n",
       "      <th>1</th>\n",
       "      <td>01</td>\n",
       "      <td>RB-0024</td>\n",
       "      <td>Pan-Seared Steak</td>\n",
       "      <td>with Cipollini Onions, Roasted Potatoes, and T...</td>\n",
       "      <td>201801</td>\n",
       "      <td>NEW RECIPE?</td>\n",
       "      <td>No</td>\n",
       "      <td>43101</td>\n",
       "      <td>3.55</td>\n",
       "      <td></td>\n",
       "    </tr>\n",
       "    <tr>\n",
       "      <th>2</th>\n",
       "      <td>01</td>\n",
       "      <td>RC-0118</td>\n",
       "      <td>Crispy-Skinned Pesto Chicken</td>\n",
       "      <td>With Thyme-Roasted Parsnips and Zucchini Ribbons</td>\n",
       "      <td>201801</td>\n",
       "      <td>NEW RECIPE?</td>\n",
       "      <td>Yes</td>\n",
       "      <td>43101</td>\n",
       "      <td>3.18</td>\n",
       "      <td></td>\n",
       "    </tr>\n",
       "    <tr>\n",
       "      <th>3</th>\n",
       "      <td>01</td>\n",
       "      <td>RV-0092</td>\n",
       "      <td>Fattoush Salad</td>\n",
       "      <td>with Crispy Chickpeas, Za'atar-Spiced Pita and...</td>\n",
       "      <td>201801</td>\n",
       "      <td>NEW RECIPE?</td>\n",
       "      <td>No</td>\n",
       "      <td>43101</td>\n",
       "      <td>3.25/3.34/3.29</td>\n",
       "      <td></td>\n",
       "    </tr>\n",
       "    <tr>\n",
       "      <th>4</th>\n",
       "      <td>01</td>\n",
       "      <td>RP-0024</td>\n",
       "      <td>Speedy Pork Stir-Fry</td>\n",
       "      <td>with Ginger, Sugar Snap Peas and Carrots</td>\n",
       "      <td>201801</td>\n",
       "      <td>NEW RECIPE?</td>\n",
       "      <td>No</td>\n",
       "      <td>43101</td>\n",
       "      <td>3.44</td>\n",
       "      <td></td>\n",
       "    </tr>\n",
       "    <tr>\n",
       "      <th>5</th>\n",
       "      <td>01</td>\n",
       "      <td>RB-0027</td>\n",
       "      <td>Smoky Beef Fajitas</td>\n",
       "      <td>with Sautéed Peppers and Guacamole</td>\n",
       "      <td>201801</td>\n",
       "      <td>NEW RECIPE?</td>\n",
       "      <td>No</td>\n",
       "      <td>43101</td>\n",
       "      <td>3.32</td>\n",
       "      <td></td>\n",
       "    </tr>\n",
       "    <tr>\n",
       "      <th>6</th>\n",
       "      <td>01</td>\n",
       "      <td>RC-0062</td>\n",
       "      <td>Sticky Honey-Roasted Chicken</td>\n",
       "      <td>with Sweet Potatoes and Zucchini</td>\n",
       "      <td>201801</td>\n",
       "      <td>NEW RECIPE?</td>\n",
       "      <td>Yes</td>\n",
       "      <td>43101</td>\n",
       "      <td>3.28</td>\n",
       "      <td></td>\n",
       "    </tr>\n",
       "    <tr>\n",
       "      <th>7</th>\n",
       "      <td>01</td>\n",
       "      <td>RV-0185</td>\n",
       "      <td>Rustic Mushroom-Lentil Soup</td>\n",
       "      <td>with Parmesan Crostini</td>\n",
       "      <td>201801</td>\n",
       "      <td>NEW RECIPE?</td>\n",
       "      <td>Yes</td>\n",
       "      <td>43101</td>\n",
       "      <td>3.15</td>\n",
       "      <td></td>\n",
       "    </tr>\n",
       "    <tr>\n",
       "      <th>8</th>\n",
       "      <td>01</td>\n",
       "      <td>RV-0159</td>\n",
       "      <td>Sweet Chili Udon Noodles</td>\n",
       "      <td>with Snow Peas, Bok Choy and Roasted Peanuts</td>\n",
       "      <td>201801</td>\n",
       "      <td>NEW RECIPE?</td>\n",
       "      <td>Yes</td>\n",
       "      <td>43101</td>\n",
       "      <td>3.37</td>\n",
       "      <td></td>\n",
       "    </tr>\n",
       "  </tbody>\n",
       "</table>\n",
       "</div>"
      ],
      "text/plain": [
       "  Week Recipe ID                  RECIPE TITLE  \\\n",
       "0   01   RP-0058         Thai 'Pad Krapow Moo'   \n",
       "1   01   RB-0024             Pan-Seared Steak    \n",
       "2   01   RC-0118  Crispy-Skinned Pesto Chicken   \n",
       "3   01   RV-0092                Fattoush Salad   \n",
       "4   01   RP-0024          Speedy Pork Stir-Fry   \n",
       "5   01   RB-0027            Smoky Beef Fajitas   \n",
       "6   01   RC-0062  Sticky Honey-Roasted Chicken   \n",
       "7   01   RV-0185   Rustic Mushroom-Lentil Soup   \n",
       "8   01   RV-0159      Sweet Chili Udon Noodles   \n",
       "\n",
       "                                     RECIPE SUBTITLE Year_Week  \\\n",
       "0                    with Green Beans and Thai Basil    201801   \n",
       "1  with Cipollini Onions, Roasted Potatoes, and T...    201801   \n",
       "2   With Thyme-Roasted Parsnips and Zucchini Ribbons    201801   \n",
       "3  with Crispy Chickpeas, Za'atar-Spiced Pita and...    201801   \n",
       "4           with Ginger, Sugar Snap Peas and Carrots    201801   \n",
       "5                 with Sautéed Peppers and Guacamole    201801   \n",
       "6                   with Sweet Potatoes and Zucchini    201801   \n",
       "7                             with Parmesan Crostini    201801   \n",
       "8       with Snow Peas, Bok Choy and Roasted Peanuts    201801   \n",
       "\n",
       "  New_Recipe_Flag New_Recipe Last Ran    Recipe Score buffer_Column  \n",
       "0                    TESTING    Irene           43101          3.59  \n",
       "1     NEW RECIPE?         No    43101            3.55                \n",
       "2     NEW RECIPE?        Yes    43101            3.18                \n",
       "3     NEW RECIPE?         No    43101  3.25/3.34/3.29                \n",
       "4     NEW RECIPE?         No    43101            3.44                \n",
       "5     NEW RECIPE?         No    43101            3.32                \n",
       "6     NEW RECIPE?        Yes    43101            3.28                \n",
       "7     NEW RECIPE?        Yes    43101            3.15                \n",
       "8     NEW RECIPE?        Yes    43101            3.37                "
      ]
     },
     "execution_count": 20,
     "metadata": {},
     "output_type": "execute_result"
    }
   ],
   "source": [
    "df"
   ]
  },
  {
   "cell_type": "code",
   "execution_count": 120,
   "metadata": {},
   "outputs": [],
   "source": []
  },
  {
   "cell_type": "code",
   "execution_count": 141,
   "metadata": {},
   "outputs": [
    {
     "data": {
      "text/plain": [
       "<xlrd.sheet.Sheet at 0x1d331234c50>"
      ]
     },
     "execution_count": 141,
     "metadata": {},
     "output_type": "execute_result"
    }
   ],
   "source": [
    "this_excel = xlrd.open_workbook(e)\n",
    "\n",
    "this_excel.sheet_by_index(0)"
   ]
  },
  {
   "cell_type": "code",
   "execution_count": 145,
   "metadata": {},
   "outputs": [
    {
     "data": {
      "text/plain": [
       "range(0, 9)"
      ]
     },
     "execution_count": 145,
     "metadata": {},
     "output_type": "execute_result"
    }
   ],
   "source": [
    "range(len(recipe_sheets))"
   ]
  },
  {
   "cell_type": "code",
   "execution_count": 149,
   "metadata": {},
   "outputs": [
    {
     "name": "stdout",
     "output_type": "stream",
     "text": [
      "<xlrd.sheet.Sheet object at 0x000001D330BE0C88>\n",
      "<xlrd.sheet.Sheet object at 0x000001D330BE0B38>\n",
      "<xlrd.sheet.Sheet object at 0x000001D330BE0F60>\n",
      "<xlrd.sheet.Sheet object at 0x000001D330BE0588>\n",
      "<xlrd.sheet.Sheet object at 0x000001D330BE07F0>\n",
      "<xlrd.sheet.Sheet object at 0x000001D330BE0860>\n",
      "<xlrd.sheet.Sheet object at 0x000001D330BE0DD8>\n",
      "<xlrd.sheet.Sheet object at 0x000001D330BE0C18>\n",
      "<xlrd.sheet.Sheet object at 0x000001D330BE0F28>\n"
     ]
    }
   ],
   "source": [
    "for i in range(len(recipe_sheets)):\n",
    "    print(this_excel.sheet_by_index(i))\n",
    "               "
   ]
  },
  {
   "cell_type": "code",
   "execution_count": 152,
   "metadata": {},
   "outputs": [],
   "source": [
    "df.loc[ l,'Week'] = k.cell_value(3,1)\n",
    "df.loc[ l,'Recipe ID'] = k.cell_value(4,1)\n",
    "df.loc[ l,'RECIPE TITLE'] = k.cell_value(7,1)\n",
    "df.loc[ l,'RECIPE SUBTITLE'] = k.cell_value(8,1)\n",
    "df.loc[ l,'Year_Week'] = k.cell_value(1,8)\n",
    "df.loc[ l,'New_Recipe_Flag'] = k.cell_value(2,7)\n",
    "df.loc[ l,'New_Recipe'] = k.cell_value(2,8)\n",
    "df.loc[ l,'Last Ran'] = k.cell_value(4,8)\n",
    "df.loc[ l,'Recipe Score'] = k.cell_value(5,8)\n",
    "\n",
    "    "
   ]
  }
 ],
 "metadata": {
  "kernelspec": {
   "display_name": "Python 3",
   "language": "python",
   "name": "python3"
  },
  "language_info": {
   "codemirror_mode": {
    "name": "ipython",
    "version": 3
   },
   "file_extension": ".py",
   "mimetype": "text/x-python",
   "name": "python",
   "nbconvert_exporter": "python",
   "pygments_lexer": "ipython3",
   "version": "3.7.1"
  }
 },
 "nbformat": 4,
 "nbformat_minor": 2
}
