{
 "cells": [
  {
   "cell_type": "markdown",
   "metadata": {},
   "source": [
    "# Introduction: \n",
    "\n",
    "Many a times we are required to scrape the data from many excels (& many sheets). It might be a daunting task if it is required to be done manually. \n",
    "\n",
    "Thanks to python, this task can be automated now. In this example, we will exactly see how to do that. \n",
    "\n"
   ]
  },
  {
   "cell_type": "code",
   "execution_count": 14,
   "metadata": {},
   "outputs": [
    {
     "data": {
      "text/plain": [
       "'C:\\\\Users\\\\HFCA-Rajat\\\\OneDrive\\\\GitHub\\\\Python-for-Data-Science\\\\Data'"
      ]
     },
     "execution_count": 14,
     "metadata": {},
     "output_type": "execute_result"
    }
   ],
   "source": [
    "# Import the relevant libraries: \n",
    "import os \n",
    "import xlrd\n",
    "import pandas as pd \n",
    "import numpy as np \n",
    "\n",
    "\n",
    "# Check the working directory: \n",
    "os.getcwd()\n",
    "\n"
   ]
  },
  {
   "cell_type": "code",
   "execution_count": null,
   "metadata": {},
   "outputs": [],
   "source": [
    "We will be using the xlrd package "
   ]
  },
  {
   "cell_type": "code",
   "execution_count": 17,
   "metadata": {},
   "outputs": [],
   "source": [
    "#Set the working directory: \n",
    "\n",
    "os.chdir('C:\\\\Users\\\\HFCA-Rajat\\\\OneDrive\\\\GitHub\\\\Python-for-Data-Science\\\\Data')"
   ]
  },
  {
   "cell_type": "markdown",
   "metadata": {},
   "source": [
    "#### Lets look at the excel files from which we want to scrape the data.."
   ]
  },
  {
   "cell_type": "code",
   "execution_count": 16,
   "metadata": {},
   "outputs": [
    {
     "data": {
      "text/plain": [
       "['Excel_Data1.xlsx', 'Excel_Data2.xlsx']"
      ]
     },
     "execution_count": 16,
     "metadata": {},
     "output_type": "execute_result"
    }
   ],
   "source": [
    "# let's store all the files in a list : \n",
    "\n",
    "files = os.listdir()\n",
    "files"
   ]
  },
  {
   "cell_type": "markdown",
   "metadata": {},
   "source": [
    "Here, we have two excel files and within them there are multiple sheets to get the data.\n",
    "\n",
    "\n",
    "Note:  \n",
    "Please note that the data we are using in the excel files is just the dummy data for illustration. "
   ]
  },
  {
   "cell_type": "code",
   "execution_count": 19,
   "metadata": {},
   "outputs": [
    {
     "data": {
      "text/plain": [
       "['Excel_Data1.xlsx', 'Excel_Data2.xlsx']"
      ]
     },
     "execution_count": 19,
     "metadata": {},
     "output_type": "execute_result"
    }
   ],
   "source": [
    "\n",
    "#Get the list of the xlsx files : \n",
    "\n",
    "excel_files = [i for i in os.listdir() if ((i.endswith('xlsx') )==True & (i.startswith('~$')==False))]\n",
    "excel_files \n",
    "\n",
    "# By now we have the list of the excel files:"
   ]
  },
  {
   "cell_type": "code",
   "execution_count": 27,
   "metadata": {},
   "outputs": [
    {
     "name": "stdout",
     "output_type": "stream",
     "text": [
      "The number of worksheets is 3\n",
      "Worksheet name(s): ['Sheet 1', 'Sheet 2', 'Rough']\n",
      "Sheet 1 23 12\n"
     ]
    }
   ],
   "source": [
    "# let's inspect the first excel: \n",
    "\n",
    "excel = xlrd.open_workbook(excel_files[0])\n",
    "print(\"The number of worksheets is {0}\".format(excel.nsheets))\n",
    "print(\"Worksheet name(s): {0}\".format(excel.sheet_names()))\n",
    "sh = excel.sheet_by_index(0)\n",
    "print(\"{0} {1} {2}\".format(sh.name, sh.nrows, sh.ncols))\n"
   ]
  },
  {
   "cell_type": "markdown",
   "metadata": {},
   "source": [
    "Now, here is the process that we shall follow: \n",
    "\n",
    " for every excel, we will see what sheets are there and what sheets we want. We will take the sheets where we have 'Sheet' word appearing and will ignore the other shee"
   ]
  },
  {
   "cell_type": "code",
   "execution_count": 21,
   "metadata": {},
   "outputs": [],
   "source": [
    "# \n",
    "\n",
    "# lets create the empty dataset: \n",
    "df = pd.DataFrame()\n",
    "l=0\n",
    "for e in excel_files: \n",
    "    this_excel = xlrd.open_workbook(e)\n",
    "    all_sheets = list(this_excel.sheet_names())\n",
    "    # get the recipe list: \n",
    "    recipe_sheets = [s for s in all_sheets if (s.startswith('Sheet')==True ) ] \n",
    "    # Extract the information from each of the recipe sheet: \n",
    "    for sheet_num in range(len(recipe_sheets)) : \n",
    "        k= this_excel.sheet_by_index(sheet_num)\n",
    "        df.loc[ l,'Week'] = k.cell_value(3,1)\n",
    "        df.loc[ l,'Book ID'] = k.cell_value(4,1)\n",
    "        df.loc[ l,'Book TITLE'] = k.cell_value(7,1)\n",
    "        df.loc[ l,'Book SUBTITLE'] = k.cell_value(8,1)\n",
    "        df.loc[ l,'Year_Week'] = k.cell_value(1,8)\n",
    "        df.loc[ l,'New_Book_Flag'] = k.cell_value(2,7)\n",
    "        df.loc[ l,'New_Recipe'] = k.cell_value(2,8)\n",
    "        df.loc[ l,'Last Update Date'] = k.cell_value(4,8)\n",
    "        df.loc[ l,'Book Score'] = k.cell_value(5,8)\n",
    "        l = l+1\n",
    "    "
   ]
  },
  {
   "cell_type": "markdown",
   "metadata": {},
   "source": [
    "Now, you will see that the data has been scraped from different cells in all the excels and the specified sheets. Here, all the rows are looking the same as the dummy data was same in all the sheets. "
   ]
  },
  {
   "cell_type": "code",
   "execution_count": 22,
   "metadata": {},
   "outputs": [
    {
     "data": {
      "text/html": [
       "<div>\n",
       "<style scoped>\n",
       "    .dataframe tbody tr th:only-of-type {\n",
       "        vertical-align: middle;\n",
       "    }\n",
       "\n",
       "    .dataframe tbody tr th {\n",
       "        vertical-align: top;\n",
       "    }\n",
       "\n",
       "    .dataframe thead th {\n",
       "        text-align: right;\n",
       "    }\n",
       "</style>\n",
       "<table border=\"1\" class=\"dataframe\">\n",
       "  <thead>\n",
       "    <tr style=\"text-align: right;\">\n",
       "      <th></th>\n",
       "      <th>Week</th>\n",
       "      <th>Book ID</th>\n",
       "      <th>Book TITLE</th>\n",
       "      <th>Book SUBTITLE</th>\n",
       "      <th>Year_Week</th>\n",
       "      <th>New_Book_Flag</th>\n",
       "      <th>New_Recipe</th>\n",
       "      <th>Last Update Date</th>\n",
       "      <th>Book Score</th>\n",
       "    </tr>\n",
       "  </thead>\n",
       "  <tbody>\n",
       "    <tr>\n",
       "      <th>0</th>\n",
       "      <td>01</td>\n",
       "      <td>RP-0058</td>\n",
       "      <td>Python Programming: A Step By Step Guide From ...</td>\n",
       "      <td></td>\n",
       "      <td>201801</td>\n",
       "      <td></td>\n",
       "      <td></td>\n",
       "      <td>Irene</td>\n",
       "      <td>43101.0</td>\n",
       "    </tr>\n",
       "    <tr>\n",
       "      <th>1</th>\n",
       "      <td>01</td>\n",
       "      <td>RP-0058</td>\n",
       "      <td>Python Programming: A Step By Step Guide From ...</td>\n",
       "      <td></td>\n",
       "      <td>201801</td>\n",
       "      <td></td>\n",
       "      <td></td>\n",
       "      <td>Irene</td>\n",
       "      <td>43101.0</td>\n",
       "    </tr>\n",
       "    <tr>\n",
       "      <th>2</th>\n",
       "      <td>01</td>\n",
       "      <td>RP-0058</td>\n",
       "      <td>Python Programming: A Step By Step Guide From ...</td>\n",
       "      <td></td>\n",
       "      <td>201801</td>\n",
       "      <td></td>\n",
       "      <td></td>\n",
       "      <td>Irene</td>\n",
       "      <td>43101.0</td>\n",
       "    </tr>\n",
       "    <tr>\n",
       "      <th>3</th>\n",
       "      <td>01</td>\n",
       "      <td>RP-0058</td>\n",
       "      <td>Python Programming: A Step By Step Guide From ...</td>\n",
       "      <td></td>\n",
       "      <td>201801</td>\n",
       "      <td></td>\n",
       "      <td></td>\n",
       "      <td>Irene</td>\n",
       "      <td>43101.0</td>\n",
       "    </tr>\n",
       "  </tbody>\n",
       "</table>\n",
       "</div>"
      ],
      "text/plain": [
       "  Week  Book ID                                         Book TITLE  \\\n",
       "0   01  RP-0058  Python Programming: A Step By Step Guide From ...   \n",
       "1   01  RP-0058  Python Programming: A Step By Step Guide From ...   \n",
       "2   01  RP-0058  Python Programming: A Step By Step Guide From ...   \n",
       "3   01  RP-0058  Python Programming: A Step By Step Guide From ...   \n",
       "\n",
       "  Book SUBTITLE Year_Week New_Book_Flag New_Recipe Last Update Date  \\\n",
       "0                  201801                                     Irene   \n",
       "1                  201801                                     Irene   \n",
       "2                  201801                                     Irene   \n",
       "3                  201801                                     Irene   \n",
       "\n",
       "   Book Score  \n",
       "0     43101.0  \n",
       "1     43101.0  \n",
       "2     43101.0  \n",
       "3     43101.0  "
      ]
     },
     "execution_count": 22,
     "metadata": {},
     "output_type": "execute_result"
    }
   ],
   "source": [
    "df"
   ]
  },
  {
   "cell_type": "code",
   "execution_count": 120,
   "metadata": {},
   "outputs": [],
   "source": []
  },
  {
   "cell_type": "code",
   "execution_count": 141,
   "metadata": {},
   "outputs": [
    {
     "data": {
      "text/plain": [
       "<xlrd.sheet.Sheet at 0x1d331234c50>"
      ]
     },
     "execution_count": 141,
     "metadata": {},
     "output_type": "execute_result"
    }
   ],
   "source": [
    "this_excel = xlrd.open_workbook(e)\n",
    "\n",
    "this_excel.sheet_by_index(0)"
   ]
  },
  {
   "cell_type": "code",
   "execution_count": 145,
   "metadata": {},
   "outputs": [
    {
     "data": {
      "text/plain": [
       "range(0, 9)"
      ]
     },
     "execution_count": 145,
     "metadata": {},
     "output_type": "execute_result"
    }
   ],
   "source": [
    "range(len(recipe_sheets))"
   ]
  },
  {
   "cell_type": "code",
   "execution_count": 149,
   "metadata": {},
   "outputs": [
    {
     "name": "stdout",
     "output_type": "stream",
     "text": [
      "<xlrd.sheet.Sheet object at 0x000001D330BE0C88>\n",
      "<xlrd.sheet.Sheet object at 0x000001D330BE0B38>\n",
      "<xlrd.sheet.Sheet object at 0x000001D330BE0F60>\n",
      "<xlrd.sheet.Sheet object at 0x000001D330BE0588>\n",
      "<xlrd.sheet.Sheet object at 0x000001D330BE07F0>\n",
      "<xlrd.sheet.Sheet object at 0x000001D330BE0860>\n",
      "<xlrd.sheet.Sheet object at 0x000001D330BE0DD8>\n",
      "<xlrd.sheet.Sheet object at 0x000001D330BE0C18>\n",
      "<xlrd.sheet.Sheet object at 0x000001D330BE0F28>\n"
     ]
    }
   ],
   "source": [
    "for i in range(len(recipe_sheets)):\n",
    "    print(this_excel.sheet_by_index(i))\n",
    "               "
   ]
  },
  {
   "cell_type": "code",
   "execution_count": 152,
   "metadata": {},
   "outputs": [],
   "source": [
    "df.loc[ l,'Week'] = k.cell_value(3,1)\n",
    "df.loc[ l,'Recipe ID'] = k.cell_value(4,1)\n",
    "df.loc[ l,'RECIPE TITLE'] = k.cell_value(7,1)\n",
    "df.loc[ l,'RECIPE SUBTITLE'] = k.cell_value(8,1)\n",
    "df.loc[ l,'Year_Week'] = k.cell_value(1,8)\n",
    "df.loc[ l,'New_Recipe_Flag'] = k.cell_value(2,7)\n",
    "df.loc[ l,'New_Recipe'] = k.cell_value(2,8)\n",
    "df.loc[ l,'Last Ran'] = k.cell_value(4,8)\n",
    "df.loc[ l,'Recipe Score'] = k.cell_value(5,8)\n",
    "\n",
    "    "
   ]
  }
 ],
 "metadata": {
  "kernelspec": {
   "display_name": "Python 3",
   "language": "python",
   "name": "python3"
  },
  "language_info": {
   "codemirror_mode": {
    "name": "ipython",
    "version": 3
   },
   "file_extension": ".py",
   "mimetype": "text/x-python",
   "name": "python",
   "nbconvert_exporter": "python",
   "pygments_lexer": "ipython3",
   "version": "3.7.1"
  }
 },
 "nbformat": 4,
 "nbformat_minor": 2
}
